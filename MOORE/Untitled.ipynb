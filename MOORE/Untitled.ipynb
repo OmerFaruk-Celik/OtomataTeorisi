{
 "cells": [
  {
   "cell_type": "code",
   "execution_count": 8,
   "id": "59babb5e-547b-4f79-95fa-bf7fc23d5707",
   "metadata": {},
   "outputs": [],
   "source": [
    "class MOORE:\n",
    "    def __init__(self,girisAlfabesi,Q,cikisAlfabesi,durumGecisi,q0):\n",
    "       self.girisAlfabesi=girisAlfabesi\n",
    "       self.Q=Q\n",
    "       self.mevcutDurum=q0\n",
    "       self.cikisAlfabesi=cikisAlfabesi\n",
    "       self.durumGecisi=durumGecisi\n",
    "       \n",
    "\n",
    "\n",
    "    def run(self,inputString):\n",
    "        for simge in inputString:\n",
    "            if simge not in girisAlfabesi:\n",
    "                self.mevcutDurum=q0\n",
    "                print(\"yanlış input girildi.\")\n",
    "                return False\n",
    "\n",
    "            self.mevcutDurum=self.durumGecisi[(self.mevcutDurum,simge)]\n",
    "        cikti=self.cikisAlfabesi[(self.mevcutDurum)]\n",
    "        self.mevcutDurum=q0\n",
    "        return cikti\n",
    "\n",
    "\n",
    "Q=[\"q0\",\"q1\",\"q2\",\"q3\",\"q4\"]\n",
    "girisAlfabesi=[\"0\",\"1\"]\n",
    "cikisAlfabesi={\n",
    "    (\"q0\"):0,\n",
    "    (\"q1\"):1,\n",
    "    (\"q2\"):2,\n",
    "    (\"q3\"):3,\n",
    "    (\"q4\"):4\n",
    "}\n",
    "durumGecisi={\n",
    "    (\"q0\",\"0\"):\"q0\",\n",
    "    (\"q0\",\"1\"):\"q1\",\n",
    "    (\"q1\",\"0\"):\"q2\",\n",
    "    (\"q1\",\"1\"):\"q3\",\n",
    "    (\"q2\",\"0\"):\"q4\",\n",
    "    (\"q2\",\"1\"):\"q0\",\n",
    "    (\"q3\",\"0\"):\"q1\",\n",
    "    (\"q3\",\"1\"):\"q2\",\n",
    "    (\"q4\",\"0\"):\"q3\",\n",
    "    (\"q4\",\"1\"):\"q4\"\n",
    "}\n",
    "\n",
    "q0=\"q0\"\n",
    "\n",
    "\n",
    "moore=MOORE(girisAlfabesi,Q,cikisAlfabesi,durumGecisi,q0)\n",
    "\n",
    "\n",
    "\n",
    "\n",
    "        "
   ]
  },
  {
   "cell_type": "code",
   "execution_count": 17,
   "id": "e70e8c69-179d-4ff1-9f96-ea4f7ca85c51",
   "metadata": {},
   "outputs": [
    {
     "data": {
      "text/plain": [
       "0"
      ]
     },
     "execution_count": 17,
     "metadata": {},
     "output_type": "execute_result"
    }
   ],
   "source": [
    "inputString=\"101\"\n",
    "moore.run(inputString)"
   ]
  },
  {
   "cell_type": "code",
   "execution_count": null,
   "id": "13637d0b-b45f-48f9-9f24-1a3bdf56355f",
   "metadata": {},
   "outputs": [],
   "source": []
  }
 ],
 "metadata": {
  "kernelspec": {
   "display_name": "Python 3 (ipykernel)",
   "language": "python",
   "name": "python3"
  },
  "language_info": {
   "codemirror_mode": {
    "name": "ipython",
    "version": 3
   },
   "file_extension": ".py",
   "mimetype": "text/x-python",
   "name": "python",
   "nbconvert_exporter": "python",
   "pygments_lexer": "ipython3",
   "version": "3.10.12"
  }
 },
 "nbformat": 4,
 "nbformat_minor": 5
}
