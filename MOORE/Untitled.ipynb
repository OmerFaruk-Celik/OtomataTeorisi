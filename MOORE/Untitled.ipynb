{
 "cells": [
  {
   "cell_type": "code",
   "execution_count": null,
   "id": "59babb5e-547b-4f79-95fa-bf7fc23d5707",
   "metadata": {},
   "outputs": [],
   "source": [
    "class MOORE:\n",
    "   def __init__(self,girisAlfabesi,Q,cikisAlfabesi,durumGecisi,q0):\n",
    "       self.girisAlfabesi=girisAlfabesi\n",
    "       self.Q=Q\n",
    "       self.mevcutDurum=q0\n",
    "       self.cikisAlfabesi="
   ]
  }
 ],
 "metadata": {
  "kernelspec": {
   "display_name": "Python 3 (ipykernel)",
   "language": "python",
   "name": "python3"
  },
  "language_info": {
   "codemirror_mode": {
    "name": "ipython",
    "version": 3
   },
   "file_extension": ".py",
   "mimetype": "text/x-python",
   "name": "python",
   "nbconvert_exporter": "python",
   "pygments_lexer": "ipython3",
   "version": "3.10.12"
  }
 },
 "nbformat": 4,
 "nbformat_minor": 5
}
