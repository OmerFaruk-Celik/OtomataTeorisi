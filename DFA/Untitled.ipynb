{
 "cells": [
  {
   "cell_type": "code",
   "execution_count": 77,
   "id": "2b85799b-a5b9-43eb-855a-0202621144a5",
   "metadata": {},
   "outputs": [],
   "source": [
    "class DFA:\n",
    "    def __init__(self,gecisIslevi,girisAlfabesi,F,Q,q0):\n",
    "        self.gecisIslevi=gecisIslevi #sözlük türünde bir değişkendir.\n",
    "        self.girisAlfabesi=girisAlfabesi\n",
    "        self.F=F\n",
    "        self.Q=Q\n",
    "        self.mevcutDurum=q0\n",
    "\n",
    "    def run(self,inputString):\n",
    "        \n",
    "        for sembol in inputString:\n",
    "            if(sembol not in girisAlfabesi):\n",
    "                print(sembol)\n",
    "                print(\"Gecersiz sembol.\")\n",
    "                return False\n",
    "\n",
    "            self.mevcutDurum=gecisIslevi[(self.mevcutDurum,sembol)]\n",
    "\n",
    "        if self.mevcutDurum in F:\n",
    "            return True\n",
    "\n",
    "        else:\n",
    "            return False\n",
    "\n",
    "gecisIslevii={\n",
    "    (\"q0\",\"0\"):\"q0\",\n",
    "    (\"q0\",\"1\"):\"q1\",\n",
    "    (\"q1\",\"0\"):\"q0\",\n",
    "    (\"q1\",\"1\"):\"q2\",\n",
    "    (\"q2\",\"0\"):\"q0\",\n",
    "    (\"q2\",\"1\"):\"q3\",\n",
    "    (\"q3\",\"0\"):\"q3\",\n",
    "    (\"q3\",\"1\"):\"q3\"    \n",
    "}\n",
    "QQ=[\"q0\",\"q1\",\"q2\",\"q3\"]\n",
    "FF=[\"q3\"]\n",
    "q00=\"q0\"\n",
    "girisAlfabesii=[\"0\",\"1\"]\n",
    "\n",
    "\n",
    "dfa=DFA(gecisIslevii,girisAlfabesii,FF,QQ,q00)\n",
    "            \n"
   ]
  },
  {
   "cell_type": "code",
   "execution_count": 80,
   "id": "d6733726-a5ac-4aea-b4a5-c122e2eda20a",
   "metadata": {},
   "outputs": [
    {
     "data": {
      "text/plain": [
       "True"
      ]
     },
     "execution_count": 80,
     "metadata": {},
     "output_type": "execute_result"
    }
   ],
   "source": [
    "input=\"0101000000000000000\"\n",
    "dfa.run(input)"
   ]
  },
  {
   "cell_type": "code",
   "execution_count": null,
   "id": "dc46d76c-8390-45dd-ac30-b2e9dee57cac",
   "metadata": {},
   "outputs": [],
   "source": []
  },
  {
   "cell_type": "code",
   "execution_count": null,
   "id": "497cd075-d4d4-41ec-b340-8726dc7f9226",
   "metadata": {},
   "outputs": [],
   "source": []
  },
  {
   "cell_type": "code",
   "execution_count": null,
   "id": "d28a317f-4621-448c-a605-63eae3ec19a9",
   "metadata": {},
   "outputs": [],
   "source": []
  }
 ],
 "metadata": {
  "kernelspec": {
   "display_name": "Python 3 (ipykernel)",
   "language": "python",
   "name": "python3"
  },
  "language_info": {
   "codemirror_mode": {
    "name": "ipython",
    "version": 3
   },
   "file_extension": ".py",
   "mimetype": "text/x-python",
   "name": "python",
   "nbconvert_exporter": "python",
   "pygments_lexer": "ipython3",
   "version": "3.10.12"
  }
 },
 "nbformat": 4,
 "nbformat_minor": 5
}
